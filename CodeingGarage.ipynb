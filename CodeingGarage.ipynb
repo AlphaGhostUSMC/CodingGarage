{
 "cells": [
  {
   "cell_type": "markdown",
   "metadata": {},
   "source": [
    "arr = [2,4,5,5,5,5,5,7,9,9]\n",
    "target = 5\n",
    "output [2,6]\n",
    "else [-1,-1]"
   ]
  },
  {
   "cell_type": "markdown",
   "metadata": {},
   "source": [
    "* Define a function \"first_and_last_position\" that takes two arguments \"nums\" and \"target\"\n",
    "* Initialize two variables \"first_pos\", \"last_pos\" and assign -1\n",
    "* Loop through each element in the \"nums\"\n",
    "* if the current element is equal to the \"target\", check if \"first_pos\" is still -1, if it is, set \"first_pos\" to the current index. \"last_pos\"\n",
    "* return list containing \"first_and_last_position\"\n"
   ]
  },
  {
   "cell_type": "code",
   "execution_count": 7,
   "metadata": {},
   "outputs": [],
   "source": [
    "def first_and_last_position1(nums, target):\n",
    "    first_pos = -1\n",
    "    last_pos = -1\n",
    "\n",
    "    for i, num in enumerate(nums):\n",
    "        if num == target:\n",
    "            if first_pos == -1:\n",
    "                first_pos = i\n",
    "            last_pos = i\n",
    "\n",
    "    return [first_pos, last_pos]"
   ]
  },
  {
   "cell_type": "code",
   "execution_count": 25,
   "metadata": {},
   "outputs": [],
   "source": [
    "def first_and_last_position2(nums, target):\n",
    "    first_pos = -1\n",
    "    last_pos = -1\n",
    "\n",
    "    low = 0\n",
    "    high = len(nums) - 1\n",
    "\n",
    "    while low <= high:\n",
    "        mid = (low + high) // 2\n",
    "\n",
    "        if nums[mid] == target:\n",
    "            first_pos = mid\n",
    "        elif nums[mid] < target:\n",
    "            low = mid + 1\n",
    "        else:\n",
    "            high = mid - 1\n",
    "\n",
    "    low = 0\n",
    "    high = len(nums) - 1\n",
    "            \n",
    "    while low <= high:\n",
    "        mid = (low + high) // 2\n",
    "\n",
    "        if nums[mid] == target:\n",
    "            last_pos = mid\n",
    "        elif nums[mid] < target:\n",
    "            low = mid + 1\n",
    "        else:\n",
    "            high = mid - 1\n",
    "\n",
    "    return [first_pos, last_pos]\n",
    "\n"
   ]
  },
  {
   "cell_type": "code",
   "execution_count": 31,
   "metadata": {},
   "outputs": [
    {
     "ename": "KeyboardInterrupt",
     "evalue": "",
     "output_type": "error",
     "traceback": [
      "\u001b[1;31m---------------------------------------------------------------------------\u001b[0m",
      "\u001b[1;31mKeyboardInterrupt\u001b[0m                         Traceback (most recent call last)",
      "Cell \u001b[1;32mIn[31], line 4\u001b[0m\n\u001b[0;32m      1\u001b[0m nums \u001b[39m=\u001b[39m [\u001b[39m1\u001b[39m,\u001b[39m2\u001b[39m,\u001b[39m3\u001b[39m,\u001b[39m4\u001b[39m,\u001b[39m5\u001b[39m,\u001b[39m6\u001b[39m,\u001b[39m7\u001b[39m,\u001b[39m8\u001b[39m,\u001b[39m9\u001b[39m,\u001b[39m10\u001b[39m,\u001b[39m11\u001b[39m,\u001b[39m12\u001b[39m,]\n\u001b[0;32m      2\u001b[0m target \u001b[39m=\u001b[39m \u001b[39m3\u001b[39m\n\u001b[1;32m----> 4\u001b[0m first_and_last_position2(nums, target)\n",
      "Cell \u001b[1;32mIn[25], line 8\u001b[0m, in \u001b[0;36mfirst_and_last_position2\u001b[1;34m(nums, target)\u001b[0m\n\u001b[0;32m      5\u001b[0m low \u001b[39m=\u001b[39m \u001b[39m0\u001b[39m\n\u001b[0;32m      6\u001b[0m high \u001b[39m=\u001b[39m \u001b[39mlen\u001b[39m(nums) \u001b[39m-\u001b[39m \u001b[39m1\u001b[39m\n\u001b[1;32m----> 8\u001b[0m \u001b[39mwhile\u001b[39;00m low \u001b[39m<\u001b[39m\u001b[39m=\u001b[39m high:\n\u001b[0;32m      9\u001b[0m     mid \u001b[39m=\u001b[39m (low \u001b[39m+\u001b[39m high) \u001b[39m/\u001b[39m\u001b[39m/\u001b[39m \u001b[39m2\u001b[39m\n\u001b[0;32m     11\u001b[0m     \u001b[39mif\u001b[39;00m nums[mid] \u001b[39m==\u001b[39m target:\n",
      "\u001b[1;31mKeyboardInterrupt\u001b[0m: "
     ]
    }
   ],
   "source": [
    "nums = [1,2,3,4,5,6,7,8,9,10,11,12,]\n",
    "target = 3\n",
    "\n",
    "first_and_last_position2(nums, target)"
   ]
  },
  {
   "cell_type": "code",
   "execution_count": 26,
   "metadata": {},
   "outputs": [
    {
     "ename": "KeyboardInterrupt",
     "evalue": "",
     "output_type": "error",
     "traceback": [
      "\u001b[1;31m---------------------------------------------------------------------------\u001b[0m",
      "\u001b[1;31mKeyboardInterrupt\u001b[0m                         Traceback (most recent call last)",
      "Cell \u001b[1;32mIn[26], line 3\u001b[0m\n\u001b[0;32m      1\u001b[0m nums \u001b[39m=\u001b[39m [\u001b[39m1\u001b[39m, \u001b[39m3\u001b[39m, \u001b[39m3\u001b[39m, \u001b[39m5\u001b[39m, \u001b[39m7\u001b[39m, \u001b[39m8\u001b[39m, \u001b[39m9\u001b[39m, \u001b[39m9\u001b[39m, \u001b[39m9\u001b[39m, \u001b[39m15\u001b[39m]\n\u001b[0;32m      2\u001b[0m target \u001b[39m=\u001b[39m \u001b[39m9\u001b[39m\n\u001b[1;32m----> 3\u001b[0m \u001b[39massert\u001b[39;00m first_and_last_position2(nums, target) \u001b[39m==\u001b[39m [\u001b[39m6\u001b[39m, \u001b[39m8\u001b[39m]\n\u001b[0;32m      5\u001b[0m nums \u001b[39m=\u001b[39m [\u001b[39m1\u001b[39m, \u001b[39m2\u001b[39m, \u001b[39m3\u001b[39m, \u001b[39m4\u001b[39m, \u001b[39m5\u001b[39m, \u001b[39m6\u001b[39m]\n\u001b[0;32m      6\u001b[0m target \u001b[39m=\u001b[39m \u001b[39m7\u001b[39m\n",
      "Cell \u001b[1;32mIn[25], line 8\u001b[0m, in \u001b[0;36mfirst_and_last_position2\u001b[1;34m(nums, target)\u001b[0m\n\u001b[0;32m      5\u001b[0m low \u001b[39m=\u001b[39m \u001b[39m0\u001b[39m\n\u001b[0;32m      6\u001b[0m high \u001b[39m=\u001b[39m \u001b[39mlen\u001b[39m(nums) \u001b[39m-\u001b[39m \u001b[39m1\u001b[39m\n\u001b[1;32m----> 8\u001b[0m \u001b[39mwhile\u001b[39;00m low \u001b[39m<\u001b[39m\u001b[39m=\u001b[39m high:\n\u001b[0;32m      9\u001b[0m     mid \u001b[39m=\u001b[39m (low \u001b[39m+\u001b[39m high) \u001b[39m/\u001b[39m\u001b[39m/\u001b[39m \u001b[39m2\u001b[39m\n\u001b[0;32m     11\u001b[0m     \u001b[39mif\u001b[39;00m nums[mid] \u001b[39m==\u001b[39m target:\n",
      "\u001b[1;31mKeyboardInterrupt\u001b[0m: "
     ]
    }
   ],
   "source": [
    "nums = [1, 3, 3, 5, 7, 8, 9, 9, 9, 15]\n",
    "target = 9\n",
    "assert first_and_last_position2(nums, target) == [6, 8]\n",
    "\n",
    "nums = [1, 2, 3, 4, 5, 6]\n",
    "target = 7\n",
    "assert first_and_last_position2(nums, target) == [-1, -1]\n",
    "\n",
    "nums = [5]\n",
    "target = 5\n",
    "assert first_and_last_position2(nums, target) == [0, 0]\n",
    "\n",
    "nums = []\n",
    "target = 5\n",
    "assert first_and_last_position2(nums, target) == [-1, -1]\n",
    "\n",
    "nums = [2,3,4,5,6,7,8]\n",
    "target = 5\n",
    "assert first_and_last_position2(nums, target) == [3, 3]\n",
    "\n",
    "nums = [1, 2, 3, 4, 4, 4, 5, 5, 4, 4, 6, 7, 8, 9, 10]\n",
    "target = 4\n",
    "assert first_and_last_position2(nums, target) == [3, 9]\n",
    "\n",
    "try:\n",
    "    assert True\n",
    "    print(\"All test cases passed\")\n",
    "except AssertionError:\n",
    "    num_passed = 0\n",
    "    num_failed = 0\n",
    "    for i, cell in enumerate(get_ipython().notebook.cells):\n",
    "        if cell.cell_type == 'code':\n",
    "            try:\n",
    "                exec(cell.source)\n",
    "                num_passed += 1\n",
    "            except AssertionError:\n",
    "                num_failed += 1\n",
    "    print(f\"{num_passed} test cases passed, {num_failed} test cases failed\")\n"
   ]
  },
  {
   "cell_type": "code",
   "execution_count": 16,
   "metadata": {},
   "outputs": [],
   "source": [
    "def numbers(nums):\n",
    "    for num in nums:\n",
    "        print(num)\n",
    "\n",
    "    for first_num in nums:\n",
    "        for second_num in nums:\n",
    "            print(first_num + second_num)"
   ]
  },
  {
   "cell_type": "code",
   "execution_count": 20,
   "metadata": {},
   "outputs": [
    {
     "name": "stdout",
     "output_type": "stream",
     "text": [
      "2\n",
      "3\n",
      "4\n",
      "3\n",
      "4\n",
      "5\n",
      "4\n",
      "5\n",
      "6\n"
     ]
    }
   ],
   "source": [
    "numbers([1,2,3,4])"
   ]
  },
  {
   "cell_type": "code",
   "execution_count": 30,
   "metadata": {},
   "outputs": [
    {
     "name": "stdout",
     "output_type": "stream",
     "text": [
      "Target found at index:  6\n"
     ]
    }
   ],
   "source": [
    "def binary_search(list, target):\n",
    "    first = 0\n",
    "    last = len(list)-1\n",
    "\n",
    "    while first <= last:\n",
    "        midpoint = (first + last)//2\n",
    "\n",
    "        if list[midpoint] == target:\n",
    "            return midpoint\n",
    "        elif list[midpoint] < target:\n",
    "            first = midpoint + 1\n",
    "        else:\n",
    "            last = midpoint - 1\n",
    "    return None\n",
    "\n",
    "\n",
    "def verify(index):\n",
    "    if index is not None:\n",
    "        print(\"Target found at index: \", index)\n",
    "    else:\n",
    "        print(\"Target not found in list\")\n",
    "\n",
    "\n",
    "numbers = [1, 2, 3, 4, 5, 6, 7, 8, 9, 10]\n",
    "\n",
    "result = binary_search(numbers, 7)\n",
    "verify(result)"
   ]
  }
 ],
 "metadata": {
  "kernelspec": {
   "display_name": "~pyvenv311",
   "language": "python",
   "name": "python3"
  },
  "language_info": {
   "codemirror_mode": {
    "name": "ipython",
    "version": 3
   },
   "file_extension": ".py",
   "mimetype": "text/x-python",
   "name": "python",
   "nbconvert_exporter": "python",
   "pygments_lexer": "ipython3",
   "version": "3.11.4"
  },
  "orig_nbformat": 4
 },
 "nbformat": 4,
 "nbformat_minor": 2
}
